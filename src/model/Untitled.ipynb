{
 "cells": [
  {
   "cell_type": "code",
   "execution_count": null,
   "id": "resistant-respect",
   "metadata": {},
   "outputs": [],
   "source": [
    "import pandas as pd\n",
    "import numpy as np\n",
    "import nltk\n",
    "from sklearn.model_selection import train_test_split\n",
    "import tensorflow as tf\n",
    "from tensorflow import keras\n",
    "from sklearn.feature_extraction import TfidfVectorizer\n",
    "from sklearn.preprocessing import MultiLabelBinarizer"
   ]
  },
  {
   "cell_type": "code",
   "execution_count": null,
   "id": "enclosed-territory",
   "metadata": {},
   "outputs": [],
   "source": [
    "data = pd.read_csv(\"\")\n",
    "data.head()"
   ]
  },
  {
   "cell_type": "code",
   "execution_count": null,
   "id": "better-reputation",
   "metadata": {},
   "outputs": [],
   "source": [
    "tfidf = TfidVectorizer(max_df = 0.8, max_features = 1000)\n",
    "X_tf = tfidf.fit_transform(data[\"cleaned_text\"])"
   ]
  },
  {
   "cell_type": "code",
   "execution_count": null,
   "id": "explicit-cursor",
   "metadata": {},
   "outputs": [],
   "source": [
    "label = MultiLabelBinarizer()\n",
    "label.fit(data[\"Tags\"])\n",
    "Y = label.transform(data[\"Tags\"])"
   ]
  },
  {
   "cell_type": "code",
   "execution_count": null,
   "id": "balanced-yukon",
   "metadata": {},
   "outputs": [],
   "source": [
    "x_train, x_test, y_train, t_test = train_test_split(x_tf,y, test_size = 0.2, random_state = 42)"
   ]
  },
  {
   "cell_type": "code",
   "execution_count": null,
   "id": "documented-coupon",
   "metadata": {},
   "outputs": [],
   "source": [
    "def create_model(dropout = , ):\n",
    "    model = Sequential()\n",
    "    model.add()\n",
    "    \n",
    "    return model"
   ]
  },
  {
   "cell_type": "code",
   "execution_count": null,
   "id": "legitimate-cookie",
   "metadata": {},
   "outputs": [],
   "source": []
  }
 ],
 "metadata": {
  "kernelspec": {
   "display_name": "Python 3",
   "language": "python",
   "name": "python3"
  },
  "language_info": {
   "codemirror_mode": {
    "name": "ipython",
    "version": 3
   },
   "file_extension": ".py",
   "mimetype": "text/x-python",
   "name": "python",
   "nbconvert_exporter": "python",
   "pygments_lexer": "ipython3",
   "version": "3.9.7"
  }
 },
 "nbformat": 4,
 "nbformat_minor": 5
}
